{
 "cells": [
  {
   "cell_type": "markdown",
   "id": "2176f92c-7987-4279-8c5e-dcd453e0d803",
   "metadata": {},
   "source": [
    "### Import Necessery Libraries"
   ]
  },
  {
   "cell_type": "code",
   "execution_count": 2,
   "id": "adbcccc8-8e02-493e-a592-c73eb43fd585",
   "metadata": {},
   "outputs": [],
   "source": [
    "import numpy as np\n",
    "import pandas as pd\n",
    "import matplotlib.pyplot as plt\n",
    "import seaborn as sns"
   ]
  },
  {
   "cell_type": "code",
   "execution_count": 3,
   "id": "4e82bf68-f744-470d-9b57-9bd2d2296989",
   "metadata": {},
   "outputs": [],
   "source": [
    "from sklearn.model_selection import train_test_split,cross_val_score\n",
    "from sklearn.metrics import accuracy_score,classification_report,confusion_matrix\n",
    "from sklearn.preprocessing import StandardScaler"
   ]
  },
  {
   "cell_type": "code",
   "execution_count": 4,
   "id": "780c0fab-af29-45d9-8c81-d0d4f50c6edc",
   "metadata": {},
   "outputs": [],
   "source": [
    "from sklearn.tree import DecisionTreeClassifier\n",
    "from sklearn.ensemble import RandomForestClassifier\n",
    "from sklearn.linear_model import LogisticRegression\n",
    "from sklearn.svm import SVC"
   ]
  },
  {
   "cell_type": "markdown",
   "id": "ce3c290b-3a9a-4184-97dc-1c38e3b18cee",
   "metadata": {},
   "source": [
    "### Import Dataset"
   ]
  },
  {
   "cell_type": "code",
   "execution_count": 6,
   "id": "94199c6e-3111-42ae-b761-c6e4c838b027",
   "metadata": {},
   "outputs": [],
   "source": [
    "datapath='heart-3.csv'\n",
    "df=pd.read_csv(datapath)"
   ]
  },
  {
   "cell_type": "markdown",
   "id": "bea737ef-1369-4ef3-a048-cdfaa232f5b1",
   "metadata": {},
   "source": [
    "### EDA"
   ]
  },
  {
   "cell_type": "code",
   "execution_count": 8,
   "id": "e46d5148-9e07-4861-97c7-00e50e26c038",
   "metadata": {},
   "outputs": [
    {
     "data": {
      "text/html": [
       "<div>\n",
       "<style scoped>\n",
       "    .dataframe tbody tr th:only-of-type {\n",
       "        vertical-align: middle;\n",
       "    }\n",
       "\n",
       "    .dataframe tbody tr th {\n",
       "        vertical-align: top;\n",
       "    }\n",
       "\n",
       "    .dataframe thead th {\n",
       "        text-align: right;\n",
       "    }\n",
       "</style>\n",
       "<table border=\"1\" class=\"dataframe\">\n",
       "  <thead>\n",
       "    <tr style=\"text-align: right;\">\n",
       "      <th></th>\n",
       "      <th>HeartDisease</th>\n",
       "      <th>BMI</th>\n",
       "      <th>Smoking</th>\n",
       "      <th>AlcoholDrinking</th>\n",
       "      <th>Stroke</th>\n",
       "      <th>PhysicalHealth</th>\n",
       "      <th>MentalHealth</th>\n",
       "      <th>DiffWalking</th>\n",
       "      <th>Sex</th>\n",
       "      <th>AgeCategory</th>\n",
       "      <th>Race</th>\n",
       "      <th>Diabetic</th>\n",
       "      <th>PhysicalActivity</th>\n",
       "      <th>GenHealth</th>\n",
       "      <th>SleepTime</th>\n",
       "      <th>Asthma</th>\n",
       "      <th>KidneyDisease</th>\n",
       "      <th>SkinCancer</th>\n",
       "    </tr>\n",
       "  </thead>\n",
       "  <tbody>\n",
       "    <tr>\n",
       "      <th>199612</th>\n",
       "      <td>No</td>\n",
       "      <td>27.53</td>\n",
       "      <td>No</td>\n",
       "      <td>No</td>\n",
       "      <td>No</td>\n",
       "      <td>0.0</td>\n",
       "      <td>0.0</td>\n",
       "      <td>No</td>\n",
       "      <td>Male</td>\n",
       "      <td>18-24</td>\n",
       "      <td>Hispanic</td>\n",
       "      <td>No</td>\n",
       "      <td>Yes</td>\n",
       "      <td>Excellent</td>\n",
       "      <td>10.0</td>\n",
       "      <td>No</td>\n",
       "      <td>No</td>\n",
       "      <td>No</td>\n",
       "    </tr>\n",
       "    <tr>\n",
       "      <th>122861</th>\n",
       "      <td>No</td>\n",
       "      <td>21.95</td>\n",
       "      <td>No</td>\n",
       "      <td>No</td>\n",
       "      <td>No</td>\n",
       "      <td>0.0</td>\n",
       "      <td>0.0</td>\n",
       "      <td>No</td>\n",
       "      <td>Female</td>\n",
       "      <td>18-24</td>\n",
       "      <td>Black</td>\n",
       "      <td>No</td>\n",
       "      <td>Yes</td>\n",
       "      <td>Excellent</td>\n",
       "      <td>6.0</td>\n",
       "      <td>No</td>\n",
       "      <td>No</td>\n",
       "      <td>No</td>\n",
       "    </tr>\n",
       "    <tr>\n",
       "      <th>18420</th>\n",
       "      <td>No</td>\n",
       "      <td>30.68</td>\n",
       "      <td>Yes</td>\n",
       "      <td>No</td>\n",
       "      <td>No</td>\n",
       "      <td>2.0</td>\n",
       "      <td>0.0</td>\n",
       "      <td>No</td>\n",
       "      <td>Male</td>\n",
       "      <td>55-59</td>\n",
       "      <td>White</td>\n",
       "      <td>No</td>\n",
       "      <td>Yes</td>\n",
       "      <td>Fair</td>\n",
       "      <td>12.0</td>\n",
       "      <td>No</td>\n",
       "      <td>No</td>\n",
       "      <td>No</td>\n",
       "    </tr>\n",
       "    <tr>\n",
       "      <th>148457</th>\n",
       "      <td>No</td>\n",
       "      <td>24.56</td>\n",
       "      <td>Yes</td>\n",
       "      <td>No</td>\n",
       "      <td>No</td>\n",
       "      <td>0.0</td>\n",
       "      <td>0.0</td>\n",
       "      <td>No</td>\n",
       "      <td>Female</td>\n",
       "      <td>75-79</td>\n",
       "      <td>White</td>\n",
       "      <td>No</td>\n",
       "      <td>No</td>\n",
       "      <td>Fair</td>\n",
       "      <td>10.0</td>\n",
       "      <td>No</td>\n",
       "      <td>No</td>\n",
       "      <td>No</td>\n",
       "    </tr>\n",
       "    <tr>\n",
       "      <th>292005</th>\n",
       "      <td>Yes</td>\n",
       "      <td>30.41</td>\n",
       "      <td>Yes</td>\n",
       "      <td>No</td>\n",
       "      <td>No</td>\n",
       "      <td>30.0</td>\n",
       "      <td>0.0</td>\n",
       "      <td>Yes</td>\n",
       "      <td>Female</td>\n",
       "      <td>70-74</td>\n",
       "      <td>Other</td>\n",
       "      <td>Yes</td>\n",
       "      <td>No</td>\n",
       "      <td>Poor</td>\n",
       "      <td>12.0</td>\n",
       "      <td>No</td>\n",
       "      <td>No</td>\n",
       "      <td>No</td>\n",
       "    </tr>\n",
       "  </tbody>\n",
       "</table>\n",
       "</div>"
      ],
      "text/plain": [
       "       HeartDisease    BMI Smoking AlcoholDrinking Stroke  PhysicalHealth  \\\n",
       "199612           No  27.53      No              No     No             0.0   \n",
       "122861           No  21.95      No              No     No             0.0   \n",
       "18420            No  30.68     Yes              No     No             2.0   \n",
       "148457           No  24.56     Yes              No     No             0.0   \n",
       "292005          Yes  30.41     Yes              No     No            30.0   \n",
       "\n",
       "        MentalHealth DiffWalking     Sex AgeCategory      Race Diabetic  \\\n",
       "199612           0.0          No    Male       18-24  Hispanic       No   \n",
       "122861           0.0          No  Female       18-24     Black       No   \n",
       "18420            0.0          No    Male       55-59     White       No   \n",
       "148457           0.0          No  Female       75-79     White       No   \n",
       "292005           0.0         Yes  Female       70-74     Other      Yes   \n",
       "\n",
       "       PhysicalActivity  GenHealth  SleepTime Asthma KidneyDisease SkinCancer  \n",
       "199612              Yes  Excellent       10.0     No            No         No  \n",
       "122861              Yes  Excellent        6.0     No            No         No  \n",
       "18420               Yes       Fair       12.0     No            No         No  \n",
       "148457               No       Fair       10.0     No            No         No  \n",
       "292005               No       Poor       12.0     No            No         No  "
      ]
     },
     "execution_count": 8,
     "metadata": {},
     "output_type": "execute_result"
    }
   ],
   "source": [
    "df.sample(5)"
   ]
  },
  {
   "cell_type": "code",
   "execution_count": 9,
   "id": "b8a0871d-fea1-4b8a-ad77-8a41c21ad6d7",
   "metadata": {},
   "outputs": [
    {
     "data": {
      "text/plain": [
       "(319795, 18)"
      ]
     },
     "execution_count": 9,
     "metadata": {},
     "output_type": "execute_result"
    }
   ],
   "source": [
    "df.shape"
   ]
  },
  {
   "cell_type": "code",
   "execution_count": 10,
   "id": "0612b11d-68f6-4e28-b977-dfbb85c36de2",
   "metadata": {},
   "outputs": [
    {
     "name": "stdout",
     "output_type": "stream",
     "text": [
      "<class 'pandas.core.frame.DataFrame'>\n",
      "RangeIndex: 319795 entries, 0 to 319794\n",
      "Data columns (total 18 columns):\n",
      " #   Column            Non-Null Count   Dtype  \n",
      "---  ------            --------------   -----  \n",
      " 0   HeartDisease      319795 non-null  object \n",
      " 1   BMI               319795 non-null  float64\n",
      " 2   Smoking           319795 non-null  object \n",
      " 3   AlcoholDrinking   319795 non-null  object \n",
      " 4   Stroke            319795 non-null  object \n",
      " 5   PhysicalHealth    319795 non-null  float64\n",
      " 6   MentalHealth      319795 non-null  float64\n",
      " 7   DiffWalking       319795 non-null  object \n",
      " 8   Sex               319795 non-null  object \n",
      " 9   AgeCategory       319795 non-null  object \n",
      " 10  Race              319795 non-null  object \n",
      " 11  Diabetic          319795 non-null  object \n",
      " 12  PhysicalActivity  319795 non-null  object \n",
      " 13  GenHealth         319795 non-null  object \n",
      " 14  SleepTime         319795 non-null  float64\n",
      " 15  Asthma            319795 non-null  object \n",
      " 16  KidneyDisease     319795 non-null  object \n",
      " 17  SkinCancer        319795 non-null  object \n",
      "dtypes: float64(4), object(14)\n",
      "memory usage: 43.9+ MB\n"
     ]
    }
   ],
   "source": [
    "df.info()"
   ]
  },
  {
   "cell_type": "code",
   "execution_count": 11,
   "id": "ea35edd4-0e1d-4e5e-8364-6267848268d9",
   "metadata": {},
   "outputs": [
    {
     "data": {
      "text/plain": [
       "HeartDisease        0\n",
       "BMI                 0\n",
       "Smoking             0\n",
       "AlcoholDrinking     0\n",
       "Stroke              0\n",
       "PhysicalHealth      0\n",
       "MentalHealth        0\n",
       "DiffWalking         0\n",
       "Sex                 0\n",
       "AgeCategory         0\n",
       "Race                0\n",
       "Diabetic            0\n",
       "PhysicalActivity    0\n",
       "GenHealth           0\n",
       "SleepTime           0\n",
       "Asthma              0\n",
       "KidneyDisease       0\n",
       "SkinCancer          0\n",
       "dtype: int64"
      ]
     },
     "execution_count": 11,
     "metadata": {},
     "output_type": "execute_result"
    }
   ],
   "source": [
    "df.isnull().sum()"
   ]
  },
  {
   "cell_type": "code",
   "execution_count": 12,
   "id": "3b1cac01-a782-4a0d-9841-4edb5e264aed",
   "metadata": {},
   "outputs": [
    {
     "data": {
      "text/html": [
       "<div>\n",
       "<style scoped>\n",
       "    .dataframe tbody tr th:only-of-type {\n",
       "        vertical-align: middle;\n",
       "    }\n",
       "\n",
       "    .dataframe tbody tr th {\n",
       "        vertical-align: top;\n",
       "    }\n",
       "\n",
       "    .dataframe thead th {\n",
       "        text-align: right;\n",
       "    }\n",
       "</style>\n",
       "<table border=\"1\" class=\"dataframe\">\n",
       "  <thead>\n",
       "    <tr style=\"text-align: right;\">\n",
       "      <th></th>\n",
       "      <th>count</th>\n",
       "      <th>mean</th>\n",
       "      <th>std</th>\n",
       "      <th>min</th>\n",
       "      <th>25%</th>\n",
       "      <th>50%</th>\n",
       "      <th>75%</th>\n",
       "      <th>max</th>\n",
       "    </tr>\n",
       "  </thead>\n",
       "  <tbody>\n",
       "    <tr>\n",
       "      <th>BMI</th>\n",
       "      <td>319795.0</td>\n",
       "      <td>28.325399</td>\n",
       "      <td>6.356100</td>\n",
       "      <td>12.02</td>\n",
       "      <td>24.03</td>\n",
       "      <td>27.34</td>\n",
       "      <td>31.42</td>\n",
       "      <td>94.85</td>\n",
       "    </tr>\n",
       "    <tr>\n",
       "      <th>PhysicalHealth</th>\n",
       "      <td>319795.0</td>\n",
       "      <td>3.371710</td>\n",
       "      <td>7.950850</td>\n",
       "      <td>0.00</td>\n",
       "      <td>0.00</td>\n",
       "      <td>0.00</td>\n",
       "      <td>2.00</td>\n",
       "      <td>30.00</td>\n",
       "    </tr>\n",
       "    <tr>\n",
       "      <th>MentalHealth</th>\n",
       "      <td>319795.0</td>\n",
       "      <td>3.898366</td>\n",
       "      <td>7.955235</td>\n",
       "      <td>0.00</td>\n",
       "      <td>0.00</td>\n",
       "      <td>0.00</td>\n",
       "      <td>3.00</td>\n",
       "      <td>30.00</td>\n",
       "    </tr>\n",
       "    <tr>\n",
       "      <th>SleepTime</th>\n",
       "      <td>319795.0</td>\n",
       "      <td>7.097075</td>\n",
       "      <td>1.436007</td>\n",
       "      <td>1.00</td>\n",
       "      <td>6.00</td>\n",
       "      <td>7.00</td>\n",
       "      <td>8.00</td>\n",
       "      <td>24.00</td>\n",
       "    </tr>\n",
       "  </tbody>\n",
       "</table>\n",
       "</div>"
      ],
      "text/plain": [
       "                   count       mean       std    min    25%    50%    75%  \\\n",
       "BMI             319795.0  28.325399  6.356100  12.02  24.03  27.34  31.42   \n",
       "PhysicalHealth  319795.0   3.371710  7.950850   0.00   0.00   0.00   2.00   \n",
       "MentalHealth    319795.0   3.898366  7.955235   0.00   0.00   0.00   3.00   \n",
       "SleepTime       319795.0   7.097075  1.436007   1.00   6.00   7.00   8.00   \n",
       "\n",
       "                  max  \n",
       "BMI             94.85  \n",
       "PhysicalHealth  30.00  \n",
       "MentalHealth    30.00  \n",
       "SleepTime       24.00  "
      ]
     },
     "execution_count": 12,
     "metadata": {},
     "output_type": "execute_result"
    }
   ],
   "source": [
    "df.describe().T"
   ]
  },
  {
   "cell_type": "code",
   "execution_count": 13,
   "id": "2024b1e7-bc06-4773-acf7-6638a9d4bcab",
   "metadata": {},
   "outputs": [
    {
     "name": "stdout",
     "output_type": "stream",
     "text": [
      "['HeartDisease', 'BMI', 'Smoking', 'AlcoholDrinking', 'Stroke', 'PhysicalHealth', 'MentalHealth', 'DiffWalking', 'Sex', 'AgeCategory', 'Race', 'Diabetic', 'PhysicalActivity', 'GenHealth', 'SleepTime', 'Asthma', 'KidneyDisease', 'SkinCancer']\n"
     ]
    }
   ],
   "source": [
    "cols=df.columns.tolist()\n",
    "print(cols)"
   ]
  },
  {
   "cell_type": "markdown",
   "id": "54cc8f15-160d-4763-a2d1-664922e9f7cd",
   "metadata": {},
   "source": [
    "### Preprocessing"
   ]
  },
  {
   "cell_type": "code",
   "execution_count": 15,
   "id": "4e1d54f1-1271-460c-830e-835b11947b7e",
   "metadata": {},
   "outputs": [
    {
     "name": "stdout",
     "output_type": "stream",
     "text": [
      "HeartDisease\n",
      "No     292422\n",
      "Yes     27373\n",
      "Name: count, dtype: int64\n",
      "----------------------------\n",
      "Smoking\n",
      "No     187887\n",
      "Yes    131908\n",
      "Name: count, dtype: int64\n",
      "----------------------------\n",
      "AlcoholDrinking\n",
      "No     298018\n",
      "Yes     21777\n",
      "Name: count, dtype: int64\n",
      "----------------------------\n",
      "Stroke\n",
      "No     307726\n",
      "Yes     12069\n",
      "Name: count, dtype: int64\n",
      "----------------------------\n",
      "DiffWalking\n",
      "No     275385\n",
      "Yes     44410\n",
      "Name: count, dtype: int64\n",
      "----------------------------\n",
      "Sex\n",
      "Female    167805\n",
      "Male      151990\n",
      "Name: count, dtype: int64\n",
      "----------------------------\n",
      "AgeCategory\n",
      "65-69          34151\n",
      "60-64          33686\n",
      "70-74          31065\n",
      "55-59          29757\n",
      "50-54          25382\n",
      "80 or older    24153\n",
      "45-49          21791\n",
      "75-79          21482\n",
      "18-24          21064\n",
      "40-44          21006\n",
      "35-39          20550\n",
      "30-34          18753\n",
      "25-29          16955\n",
      "Name: count, dtype: int64\n",
      "----------------------------\n",
      "Race\n",
      "White                             245212\n",
      "Hispanic                           27446\n",
      "Black                              22939\n",
      "Other                              10928\n",
      "Asian                               8068\n",
      "American Indian/Alaskan Native      5202\n",
      "Name: count, dtype: int64\n",
      "----------------------------\n",
      "Diabetic\n",
      "No                         269653\n",
      "Yes                         40802\n",
      "No, borderline diabetes      6781\n",
      "Yes (during pregnancy)       2559\n",
      "Name: count, dtype: int64\n",
      "----------------------------\n",
      "PhysicalActivity\n",
      "Yes    247957\n",
      "No      71838\n",
      "Name: count, dtype: int64\n",
      "----------------------------\n",
      "GenHealth\n",
      "Very good    113858\n",
      "Good          93129\n",
      "Excellent     66842\n",
      "Fair          34677\n",
      "Poor          11289\n",
      "Name: count, dtype: int64\n",
      "----------------------------\n",
      "Asthma\n",
      "No     276923\n",
      "Yes     42872\n",
      "Name: count, dtype: int64\n",
      "----------------------------\n",
      "KidneyDisease\n",
      "No     308016\n",
      "Yes     11779\n",
      "Name: count, dtype: int64\n",
      "----------------------------\n",
      "SkinCancer\n",
      "No     289976\n",
      "Yes     29819\n",
      "Name: count, dtype: int64\n",
      "----------------------------\n",
      "Total: 14\n"
     ]
    }
   ],
   "source": [
    "sum=0;\n",
    "for i in cols:\n",
    "    if(df[i].nunique()<20):\n",
    "        sum+=1\n",
    "        print(df[i].value_counts())\n",
    "        print('----------------------------')\n",
    "print(f\"Total:\",sum)"
   ]
  },
  {
   "cell_type": "code",
   "execution_count": 16,
   "id": "6a1d3719-6d39-44ce-a797-5283b949e560",
   "metadata": {},
   "outputs": [],
   "source": [
    "df['HeartDisease']=df['HeartDisease'].map({'No':0,'Yes':1})"
   ]
  },
  {
   "cell_type": "code",
   "execution_count": 17,
   "id": "43e4f7b2-7af2-4603-bb62-e73e74e85f61",
   "metadata": {},
   "outputs": [],
   "source": [
    "df['Smoking']=df['Smoking'].map({'No':0,'Yes':1})"
   ]
  },
  {
   "cell_type": "code",
   "execution_count": 18,
   "id": "399b121d-8e62-4781-b717-e4344f6ef123",
   "metadata": {},
   "outputs": [],
   "source": [
    "df['AlcoholDrinking']=df['AlcoholDrinking'].map({'No':0,'Yes':1})"
   ]
  },
  {
   "cell_type": "code",
   "execution_count": 19,
   "id": "a4b8893b-354b-46d7-af14-fdbb540eaea8",
   "metadata": {},
   "outputs": [],
   "source": [
    "df['Stroke']=df['Stroke'].map({'No':0,'Yes':1})"
   ]
  },
  {
   "cell_type": "code",
   "execution_count": 20,
   "id": "909119d0-4a5b-445b-94a9-810ee1882cea",
   "metadata": {},
   "outputs": [],
   "source": [
    "df['DiffWalking']=df['DiffWalking'].map({'No':0,'Yes':1})"
   ]
  },
  {
   "cell_type": "code",
   "execution_count": 21,
   "id": "ef6911bf-f0f3-4a65-aa12-aa3c57a4d53d",
   "metadata": {},
   "outputs": [],
   "source": [
    "df['Sex']=df['Sex'].map({'Female':0,'Male':1})"
   ]
  },
  {
   "cell_type": "code",
   "execution_count": 22,
   "id": "91a92417-f759-4b45-b139-3bd2fd9e6d61",
   "metadata": {},
   "outputs": [],
   "source": [
    "df['Diabetic']=df['Diabetic'].map({'No':0,'Yes':1,'No, borderline diabetes':3,'Yes (during pregnancy)':4})"
   ]
  },
  {
   "cell_type": "code",
   "execution_count": 23,
   "id": "afb17396-d939-4ba3-ba41-be748b109933",
   "metadata": {},
   "outputs": [],
   "source": [
    "df['PhysicalActivity']=df['PhysicalActivity'].map({'No':0,'Yes':1})"
   ]
  },
  {
   "cell_type": "code",
   "execution_count": 24,
   "id": "3d222947-41cf-4d83-a264-8de4df328f81",
   "metadata": {},
   "outputs": [],
   "source": [
    "df['GenHealth']=df['GenHealth'].map({'Very good':0,'Good':1,'Excellent':2,'Fair':3,'Poor':4})"
   ]
  },
  {
   "cell_type": "code",
   "execution_count": 25,
   "id": "5488ee1d-18a0-4fa2-a9bf-bc12b98a6b16",
   "metadata": {},
   "outputs": [],
   "source": [
    "df['Asthma']=df['Asthma'].map({'No':0,'Yes':1})"
   ]
  },
  {
   "cell_type": "code",
   "execution_count": 26,
   "id": "9d7116d5-5d97-4f85-81c7-3f5a9f47f609",
   "metadata": {},
   "outputs": [],
   "source": [
    "df['KidneyDisease']=df['KidneyDisease'].map({'No':0,'Yes':1})"
   ]
  },
  {
   "cell_type": "code",
   "execution_count": 27,
   "id": "78e3afa5-981c-42b9-b715-367310ae5868",
   "metadata": {},
   "outputs": [],
   "source": [
    "df['SkinCancer']=df['SkinCancer'].map({'No':0,'Yes':1})"
   ]
  },
  {
   "cell_type": "code",
   "execution_count": 28,
   "id": "f51cfb7c-59f0-4c0b-a049-63a344865246",
   "metadata": {},
   "outputs": [
    {
     "data": {
      "text/html": [
       "<div>\n",
       "<style scoped>\n",
       "    .dataframe tbody tr th:only-of-type {\n",
       "        vertical-align: middle;\n",
       "    }\n",
       "\n",
       "    .dataframe tbody tr th {\n",
       "        vertical-align: top;\n",
       "    }\n",
       "\n",
       "    .dataframe thead th {\n",
       "        text-align: right;\n",
       "    }\n",
       "</style>\n",
       "<table border=\"1\" class=\"dataframe\">\n",
       "  <thead>\n",
       "    <tr style=\"text-align: right;\">\n",
       "      <th></th>\n",
       "      <th>HeartDisease</th>\n",
       "      <th>BMI</th>\n",
       "      <th>Smoking</th>\n",
       "      <th>AlcoholDrinking</th>\n",
       "      <th>Stroke</th>\n",
       "      <th>PhysicalHealth</th>\n",
       "      <th>MentalHealth</th>\n",
       "      <th>DiffWalking</th>\n",
       "      <th>Sex</th>\n",
       "      <th>AgeCategory</th>\n",
       "      <th>Race</th>\n",
       "      <th>Diabetic</th>\n",
       "      <th>PhysicalActivity</th>\n",
       "      <th>GenHealth</th>\n",
       "      <th>SleepTime</th>\n",
       "      <th>Asthma</th>\n",
       "      <th>KidneyDisease</th>\n",
       "      <th>SkinCancer</th>\n",
       "    </tr>\n",
       "  </thead>\n",
       "  <tbody>\n",
       "    <tr>\n",
       "      <th>312075</th>\n",
       "      <td>0</td>\n",
       "      <td>25.04</td>\n",
       "      <td>0</td>\n",
       "      <td>0</td>\n",
       "      <td>0</td>\n",
       "      <td>0.0</td>\n",
       "      <td>0.0</td>\n",
       "      <td>0</td>\n",
       "      <td>1</td>\n",
       "      <td>75-79</td>\n",
       "      <td>White</td>\n",
       "      <td>0</td>\n",
       "      <td>1</td>\n",
       "      <td>1</td>\n",
       "      <td>8.0</td>\n",
       "      <td>0</td>\n",
       "      <td>0</td>\n",
       "      <td>0</td>\n",
       "    </tr>\n",
       "    <tr>\n",
       "      <th>86689</th>\n",
       "      <td>0</td>\n",
       "      <td>28.06</td>\n",
       "      <td>1</td>\n",
       "      <td>0</td>\n",
       "      <td>0</td>\n",
       "      <td>0.0</td>\n",
       "      <td>0.0</td>\n",
       "      <td>0</td>\n",
       "      <td>1</td>\n",
       "      <td>40-44</td>\n",
       "      <td>White</td>\n",
       "      <td>0</td>\n",
       "      <td>1</td>\n",
       "      <td>0</td>\n",
       "      <td>8.0</td>\n",
       "      <td>0</td>\n",
       "      <td>0</td>\n",
       "      <td>0</td>\n",
       "    </tr>\n",
       "    <tr>\n",
       "      <th>289586</th>\n",
       "      <td>0</td>\n",
       "      <td>39.05</td>\n",
       "      <td>0</td>\n",
       "      <td>0</td>\n",
       "      <td>0</td>\n",
       "      <td>0.0</td>\n",
       "      <td>2.0</td>\n",
       "      <td>1</td>\n",
       "      <td>0</td>\n",
       "      <td>35-39</td>\n",
       "      <td>Hispanic</td>\n",
       "      <td>0</td>\n",
       "      <td>1</td>\n",
       "      <td>0</td>\n",
       "      <td>8.0</td>\n",
       "      <td>0</td>\n",
       "      <td>0</td>\n",
       "      <td>0</td>\n",
       "    </tr>\n",
       "    <tr>\n",
       "      <th>90944</th>\n",
       "      <td>0</td>\n",
       "      <td>21.77</td>\n",
       "      <td>0</td>\n",
       "      <td>0</td>\n",
       "      <td>0</td>\n",
       "      <td>0.0</td>\n",
       "      <td>0.0</td>\n",
       "      <td>0</td>\n",
       "      <td>0</td>\n",
       "      <td>70-74</td>\n",
       "      <td>White</td>\n",
       "      <td>0</td>\n",
       "      <td>1</td>\n",
       "      <td>0</td>\n",
       "      <td>8.0</td>\n",
       "      <td>0</td>\n",
       "      <td>0</td>\n",
       "      <td>0</td>\n",
       "    </tr>\n",
       "    <tr>\n",
       "      <th>146498</th>\n",
       "      <td>0</td>\n",
       "      <td>26.78</td>\n",
       "      <td>1</td>\n",
       "      <td>1</td>\n",
       "      <td>0</td>\n",
       "      <td>14.0</td>\n",
       "      <td>0.0</td>\n",
       "      <td>0</td>\n",
       "      <td>1</td>\n",
       "      <td>45-49</td>\n",
       "      <td>White</td>\n",
       "      <td>0</td>\n",
       "      <td>0</td>\n",
       "      <td>0</td>\n",
       "      <td>6.0</td>\n",
       "      <td>0</td>\n",
       "      <td>0</td>\n",
       "      <td>0</td>\n",
       "    </tr>\n",
       "  </tbody>\n",
       "</table>\n",
       "</div>"
      ],
      "text/plain": [
       "        HeartDisease    BMI  Smoking  AlcoholDrinking  Stroke  PhysicalHealth  \\\n",
       "312075             0  25.04        0                0       0             0.0   \n",
       "86689              0  28.06        1                0       0             0.0   \n",
       "289586             0  39.05        0                0       0             0.0   \n",
       "90944              0  21.77        0                0       0             0.0   \n",
       "146498             0  26.78        1                1       0            14.0   \n",
       "\n",
       "        MentalHealth  DiffWalking  Sex AgeCategory      Race  Diabetic  \\\n",
       "312075           0.0            0    1       75-79     White         0   \n",
       "86689            0.0            0    1       40-44     White         0   \n",
       "289586           2.0            1    0       35-39  Hispanic         0   \n",
       "90944            0.0            0    0       70-74     White         0   \n",
       "146498           0.0            0    1       45-49     White         0   \n",
       "\n",
       "        PhysicalActivity  GenHealth  SleepTime  Asthma  KidneyDisease  \\\n",
       "312075                 1          1        8.0       0              0   \n",
       "86689                  1          0        8.0       0              0   \n",
       "289586                 1          0        8.0       0              0   \n",
       "90944                  1          0        8.0       0              0   \n",
       "146498                 0          0        6.0       0              0   \n",
       "\n",
       "        SkinCancer  \n",
       "312075           0  \n",
       "86689            0  \n",
       "289586           0  \n",
       "90944            0  \n",
       "146498           0  "
      ]
     },
     "execution_count": 28,
     "metadata": {},
     "output_type": "execute_result"
    }
   ],
   "source": [
    "df.sample(5)"
   ]
  },
  {
   "cell_type": "markdown",
   "id": "812b7c6c-1e2c-41f8-90b9-76153f984222",
   "metadata": {},
   "source": [
    "### Visualization"
   ]
  },
  {
   "cell_type": "code",
   "execution_count": 30,
   "id": "b16f5ee0-9e5b-41cf-97ec-5a1c25bcfd5e",
   "metadata": {},
   "outputs": [
    {
     "data": {
      "image/png": "[encoded data removed]",
      "text/plain": [
       "<Figure size 600x600 with 1 Axes>"
      ]
     },
     "metadata": {},
     "output_type": "display_data"
    }
   ],
   "source": [
    "plt.figure(figsize=(6, 6))\n",
    "sns.boxplot(data=df[[\"BMI\", \"PhysicalHealth\", \"MentalHealth\", \"SleepTime\"]])\n",
    "plt.title(\"Boxplot for detecting outliers\")\n",
    "plt.show()"
   ]
  },
  {
   "cell_type": "code",
   "execution_count": 31,
   "id": "b7e207eb-6852-478c-ae5f-2f57cc393e31",
   "metadata": {},
   "outputs": [],
   "source": [
    "columns_to_check = [\"BMI\", \"PhysicalHealth\", \"MentalHealth\", \"SleepTime\"]\n",
    "\n",
    "for col in columns_to_check:\n",
    "    Q1 = df[col].quantile(0.25)\n",
    "    Q3 = df[col].quantile(0.75)\n",
    "    IQR = Q3 - Q1\n",
    "    lower_bound = Q1 - 1.5 * IQR\n",
    "    upper_bound = Q3 + 1.5 * IQR\n",
    "    df = df[(df[col] >= lower_bound) & (df[col] <= upper_bound)]"
   ]
  },
  {
   "cell_type": "code",
   "execution_count": 32,
   "id": "d537b1cc-564c-415a-a3bf-d4adf069e91a",
   "metadata": {},
   "outputs": [
    {
     "data": {
      "image/png": "[encoded data removed]",
      "text/plain": [
       "<Figure size 600x600 with 1 Axes>"
      ]
     },
     "metadata": {},
     "output_type": "display_data"
    }
   ],
   "source": [
    "plt.figure(figsize=(6, 6))\n",
    "sns.boxplot(data=df[[\"BMI\", \"PhysicalHealth\", \"MentalHealth\", \"SleepTime\"]])\n",
    "plt.title(\"Boxplot for detecting outliers\")\n",
    "plt.show()"
   ]
  },
  {
   "cell_type": "markdown",
   "id": "6dc5e8aa-b3fc-4892-b7c8-c84c242da11f",
   "metadata": {},
   "source": [
    "### Model Selection"
   ]
  },
  {
   "cell_type": "code",
   "execution_count": 34,
   "id": "7072bb28-e27a-4342-9ead-4b9f751a2b3f",
   "metadata": {},
   "outputs": [],
   "source": [
    "y=df['HeartDisease']\n",
    "x=df.drop(['Race','AgeCategory','HeartDisease'],axis=1)"
   ]
  },
  {
   "cell_type": "code",
   "execution_count": 35,
   "id": "d595a01f-0925-426f-acaf-769263bca0be",
   "metadata": {},
   "outputs": [],
   "source": [
    "x_train,x_test,y_train,y_test=train_test_split(x,y,test_size=0.3,random_state=42)"
   ]
  },
  {
   "cell_type": "code",
   "execution_count": 36,
   "id": "3c83fe52-04bc-4312-a3e4-5bc2ba1bfdd3",
   "metadata": {},
   "outputs": [
    {
     "data": {
      "text/plain": [
       "(157829, 15)"
      ]
     },
     "execution_count": 36,
     "metadata": {},
     "output_type": "execute_result"
    }
   ],
   "source": [
    "x_train.shape"
   ]
  },
  {
   "cell_type": "code",
   "execution_count": 37,
   "id": "97fa8374-1134-4330-8f77-3677467e8873",
   "metadata": {},
   "outputs": [
    {
     "data": {
      "text/plain": [
       "(157829,)"
      ]
     },
     "execution_count": 37,
     "metadata": {},
     "output_type": "execute_result"
    }
   ],
   "source": [
    "y_train.shape"
   ]
  },
  {
   "cell_type": "code",
   "execution_count": 38,
   "id": "597518d0-4959-4726-af85-d230beb11bb2",
   "metadata": {},
   "outputs": [
    {
     "name": "stdout",
     "output_type": "stream",
     "text": [
      "Accuracy Score: 91.13864167233375\n",
      "Training Score: 98.48760367232892\n",
      "              precision    recall  f1-score   support\n",
      "\n",
      "           0       0.93      0.97      0.95     62934\n",
      "           1       0.19      0.08      0.12      4708\n",
      "\n",
      "    accuracy                           0.91     67642\n",
      "   macro avg       0.56      0.53      0.53     67642\n",
      "weighted avg       0.88      0.91      0.90     67642\n",
      "\n",
      "[0.91183058 0.9112964  0.91165122 0.91264913 0.91178427]\n"
     ]
    }
   ],
   "source": [
    "RF=RandomForestClassifier(n_estimators=100)\n",
    "RF.fit(x_train,y_train)\n",
    "y_pred=RF.predict(x_test)\n",
    "print(f\"Accuracy Score:\",accuracy_score(y_pred,y_test)*100)\n",
    "print(f\"Training Score:\",RF.score(x_train,y_train)*100)\n",
    "print(classification_report(y_test,y_pred))\n",
    "print(cross_val_score(RF,x,y,cv=5))"
   ]
  },
  {
   "cell_type": "code",
   "execution_count": 39,
   "id": "f2e47768-1b35-46ba-a84f-55bd2ac0d757",
   "metadata": {},
   "outputs": [
    {
     "name": "stdout",
     "output_type": "stream",
     "text": [
      "Accuracy Score: 93.02800035480914\n",
      "Training Score: 98.48760367232892\n",
      "              precision    recall  f1-score   support\n",
      "\n",
      "           0       0.93      1.00      0.96     62934\n",
      "           1       0.49      0.04      0.07      4708\n",
      "\n",
      "    accuracy                           0.93     67642\n",
      "   macro avg       0.71      0.52      0.52     67642\n",
      "weighted avg       0.90      0.93      0.90     67642\n",
      "\n"
     ]
    }
   ],
   "source": [
    "LR=LogisticRegression(max_iter=200)\n",
    "LR.fit(x_train,y_train)\n",
    "y_pred=LR.predict(x_test)\n",
    "print(f\"Accuracy Score:\",accuracy_score(y_pred,y_test)*100)\n",
    "print(f\"Training Score:\",RF.score(x_train,y_train)*100)\n",
    "print(classification_report(y_test,y_pred))"
   ]
  },
  {
   "cell_type": "code",
   "execution_count": 40,
   "id": "d4ea5418-054d-4f71-bd5d-ca7075a25050",
   "metadata": {},
   "outputs": [
    {
     "name": "stdout",
     "output_type": "stream",
     "text": [
      "Accuracy Score: 88.92847639040833\n",
      "Training Score: 98.48760367232892\n",
      "              precision    recall  f1-score   support\n",
      "\n",
      "           0       0.94      0.94      0.94     62934\n",
      "           1       0.17      0.15      0.16      4708\n",
      "\n",
      "    accuracy                           0.89     67642\n",
      "   macro avg       0.55      0.55      0.55     67642\n",
      "weighted avg       0.88      0.89      0.89     67642\n",
      "\n",
      "[0.8895443  0.89198119 0.89133809 0.89260212 0.89107198]\n"
     ]
    }
   ],
   "source": [
    "DT=DecisionTreeClassifier()\n",
    "DT.fit(x_train,y_train)\n",
    "y_pred=DT.predict(x_test)\n",
    "print(f\"Accuracy Score:\",accuracy_score(y_pred,y_test)*100)\n",
    "print(f\"Training Score:\",RF.score(x_train,y_train)*100)\n",
    "print(classification_report(y_test,y_pred))\n",
    "print(cross_val_score(DT,x,y,cv=5))"
   ]
  },
  {
   "cell_type": "code",
   "execution_count": 41,
   "id": "007da93a-feb6-4ed8-ab26-61150461c359",
   "metadata": {},
   "outputs": [],
   "source": [
    "# RF=SVC(kernel='poly', degree=3, C=1, random_state=42)\n",
    "# RF.fit(x_train,y_train)\n",
    "# y_pred=RF.predict(x_test)\n",
    "# print(f\"Accuracy Score:\",accuracy_score(y_pred,y_test)*100)\n",
    "# print(f\"Training Score:\",RF.score(x_train,y_train)*100)\n",
    "# print(classification_report(y_test,y_pred))"
   ]
  },
  {
   "cell_type": "code",
   "execution_count": 42,
   "id": "1081418f-20f1-4205-9373-d88521649147",
   "metadata": {},
   "outputs": [],
   "source": [
    "# RF=SVC(kernel='rbf', C=1, gamma='scale', random_state=42)\n",
    "# RF.fit(x_train,y_train)\n",
    "# y_pred=RF.predict(x_test)\n",
    "# print(f\"Accuracy Score:\",accuracy_score(y_pred,y_test)*100)\n",
    "# print(f\"Training Score:\",RF.score(x_train,y_train)*100)\n",
    "# print(classification_report(y_test,y_pred))"
   ]
  },
  {
   "cell_type": "code",
   "execution_count": null,
   "id": "400e18f0-758a-4c03-8219-3ff6ecae7e23",
   "metadata": {},
   "outputs": [],
   "source": []
  }
 ],
 "metadata": {
  "kernelspec": {
   "display_name": "Python 3 (ipykernel)",
   "language": "python",
   "name": "python3"
  },
  "language_info": {
   "codemirror_mode": {
    "name": "ipython",
    "version": 3
   },
   "file_extension": ".py",
   "mimetype": "text/x-python",
   "name": "python",
   "nbconvert_exporter": "python",
   "pygments_lexer": "ipython3",
   "version": "3.12.4"
  }
 },
 "nbformat": 4,
 "nbformat_minor": 5
}
